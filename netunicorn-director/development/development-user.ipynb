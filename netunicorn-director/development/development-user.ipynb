{
 "cells": [
  {
   "cell_type": "code",
   "execution_count": 2,
   "id": "44eabbe4-7aaf-421a-91f2-910d9e8e8ae3",
   "metadata": {
    "tags": []
   },
   "outputs": [],
   "source": [
    "from netunicorn.base import Experiment, Task, Pipeline\n",
    "from netunicorn.client.remote import RemoteClient"
   ]
  },
  {
   "cell_type": "code",
   "execution_count": 3,
   "id": "d1e6d473-0f9b-4710-8b66-3ba052eec690",
   "metadata": {
    "tags": []
   },
   "outputs": [],
   "source": [
    "class DummyTask(Task):\n",
    "    def run(self):\n",
    "        import time\n",
    "        time.sleep(3)\n",
    "        return 0\n",
    "\n",
    "pipeline = Pipeline().then(DummyTask()).then(DummyTask())"
   ]
  },
  {
   "cell_type": "code",
   "execution_count": 4,
   "id": "b3b71325-7a97-42f6-9739-57f43a604dcf",
   "metadata": {
    "tags": []
   },
   "outputs": [
    {
     "data": {
      "text/plain": [
       "True"
      ]
     },
     "execution_count": 4,
     "metadata": {},
     "output_type": "execute_result"
    }
   ],
   "source": [
    "client = RemoteClient(endpoint=\"http://127.0.0.1:26611\", login=\"test\", password=\"test\")\n",
    "client.healthcheck()"
   ]
  },
  {
   "cell_type": "code",
   "execution_count": 6,
   "id": "35d332e8-d7f3-4207-ab7e-27a610f8fb19",
   "metadata": {
    "tags": []
   },
   "outputs": [
    {
     "name": "stdout",
     "output_type": "stream",
     "text": [
      "[dockerhost]\n"
     ]
    }
   ],
   "source": [
    "nodes = client.get_nodes()\n",
    "for node in nodes:\n",
    "    print(node)\n",
    "\n",
    "current_nodes = nodes.take(1)"
   ]
  },
  {
   "cell_type": "code",
   "execution_count": 8,
   "id": "bf1c81bf-8de0-4e6d-94f4-1325b0d4336b",
   "metadata": {
    "tags": []
   },
   "outputs": [
    {
     "name": "stdout",
     "output_type": "stream",
     "text": [
      "<Deployment: Node=dockerhost, executor_id=, prepared=False>\n"
     ]
    }
   ],
   "source": [
    "experiment = Experiment().map(pipeline, current_nodes)\n",
    "print(experiment)"
   ]
  },
  {
   "cell_type": "code",
   "execution_count": 9,
   "id": "83f5efe2-db97-4460-b6df-f7c13373c961",
   "metadata": {
    "tags": []
   },
   "outputs": [
    {
     "data": {
      "text/plain": [
       "'cool_experiment'"
      ]
     },
     "execution_count": 9,
     "metadata": {},
     "output_type": "execute_result"
    }
   ],
   "source": [
    "try:\n",
    "    client.delete_experiment('cool_experiment')\n",
    "except Exception:\n",
    "    pass\n",
    "\n",
    "client.prepare_experiment(experiment, 'cool_experiment')"
   ]
  },
  {
   "cell_type": "code",
   "execution_count": 11,
   "id": "6dd055ec-6258-4842-824f-fc3b31518aa5",
   "metadata": {
    "tags": []
   },
   "outputs": [
    {
     "data": {
      "text/plain": [
       "ExperimentExecutionInformation(status=<ExperimentStatus.READY: 2>, experiment=<Deployment: Node=dockerhost, executor_id=99d83242-588c-420c-a224-e21011e2146e, prepared=True>, execution_result=None)"
      ]
     },
     "execution_count": 11,
     "metadata": {},
     "output_type": "execute_result"
    }
   ],
   "source": [
    "client.get_experiment_status('cool_experiment')"
   ]
  },
  {
   "cell_type": "code",
   "execution_count": 12,
   "id": "9c0c2228-9629-4c32-8dc9-5465eb5e3136",
   "metadata": {
    "tags": []
   },
   "outputs": [
    {
     "data": {
      "text/plain": [
       "'cool_experiment'"
      ]
     },
     "execution_count": 12,
     "metadata": {},
     "output_type": "execute_result"
    }
   ],
   "source": [
    "client.start_execution('cool_experiment')"
   ]
  },
  {
   "cell_type": "code",
   "execution_count": 14,
   "id": "443f05dd-08ec-4202-aad2-67bfbcde6565",
   "metadata": {
    "tags": []
   },
   "outputs": [
    {
     "data": {
      "text/plain": [
       "ExperimentExecutionInformation(status=<ExperimentStatus.FINISHED: 4>, experiment=<Deployment: Node=dockerhost, executor_id=99d83242-588c-420c-a224-e21011e2146e, prepared=True>, execution_result=[DeploymentExecutionResult(node=dockerhost, result=[<Success: defaultdict(<class 'list'>, {'cf2424e1-53a2-4b58-8934-32f8364c0ab2': [<Success: 0>], '8e4674d9-9135-4bf3-a3d0-23807abb299e': [<Success: 0>]})>, ['Parsed configuration: Gateway located on http://gateway:26512\\n', 'Current directory: /\\n', 'Pipeline loaded from local file, executing.\\n', 'Pipeline finished, start reporting results.\\n']], error=None)])"
      ]
     },
     "execution_count": 14,
     "metadata": {},
     "output_type": "execute_result"
    }
   ],
   "source": [
    "client.get_experiment_status('cool_experiment')"
   ]
  },
  {
   "cell_type": "code",
   "execution_count": null,
   "id": "90f72819-b16b-4d33-8e12-fa8d0928af12",
   "metadata": {},
   "outputs": [],
   "source": []
  }
 ],
 "metadata": {
  "kernelspec": {
   "display_name": "netunicorn",
   "language": "python",
   "name": "netunicorn"
  },
  "language_info": {
   "codemirror_mode": {
    "name": "ipython",
    "version": 3
   },
   "file_extension": ".py",
   "mimetype": "text/x-python",
   "name": "python",
   "nbconvert_exporter": "python",
   "pygments_lexer": "ipython3",
   "version": "3.10.9"
  }
 },
 "nbformat": 4,
 "nbformat_minor": 5
}
