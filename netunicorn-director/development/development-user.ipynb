{
 "cells": [
  {
   "cell_type": "code",
   "execution_count": 1,
   "id": "44eabbe4-7aaf-421a-91f2-910d9e8e8ae3",
   "metadata": {
    "tags": []
   },
   "outputs": [],
   "source": [
    "from netunicorn.base import Experiment, Task, Pipeline\n",
    "from netunicorn.client.remote import RemoteClient"
   ]
  },
  {
   "cell_type": "code",
   "execution_count": 2,
   "id": "d1e6d473-0f9b-4710-8b66-3ba052eec690",
   "metadata": {
    "tags": []
   },
   "outputs": [],
   "source": [
    "from typing import Literal\n",
    "\n",
    "from netunicorn.base import Task\n",
    "from netunicorn.base.types import FlagValues\n",
    "\n",
    "\n",
    "class SetFlagTask(Task):\n",
    "    def __init__(self, flag_name: str, flag_values: FlagValues, *args, **kwargs):\n",
    "        if flag_values.int_value is None and flag_values.text_value is None:\n",
    "            raise ValueError(\"Either int_value or text_value must be set\")\n",
    "\n",
    "        self.flag_name = flag_name\n",
    "        self.flag_values = flag_values\n",
    "        super().__init__(*args, **kwargs)\n",
    "\n",
    "    def run(self) -> None:\n",
    "        import requests as req\n",
    "        import os\n",
    "\n",
    "        gateway = os.environ[\"NETUNICORN_GATEWAY_ENDPOINT\"]\n",
    "        experiment_id = os.environ[\"NETUNICORN_EXPERIMENT_ID\"]\n",
    "\n",
    "        req.post(\n",
    "            f\"{gateway}/api/v1/experiment/{experiment_id}/flag/{self.flag_name}\",\n",
    "            json=self.flag_values.dict(),\n",
    "        ).raise_for_status()\n",
    "\n",
    "\n",
    "class GetFlagTask(Task):\n",
    "    def __init__(self, flag_name: str, *args, **kwargs):\n",
    "        self.flag_name = flag_name\n",
    "        super().__init__(*args, **kwargs)\n",
    "\n",
    "    def run(self) -> FlagValues:\n",
    "        import requests as req\n",
    "        import os\n",
    "\n",
    "        gateway = os.environ[\"NETUNICORN_GATEWAY_ENDPOINT\"]\n",
    "        experiment_id = os.environ[\"NETUNICORN_EXPERIMENT_ID\"]\n",
    "\n",
    "        result = req.get(\n",
    "            f\"{gateway}/api/v1/experiment/{experiment_id}/flag/{self.flag_name}\"\n",
    "        ).json()\n",
    "        return FlagValues(**result)\n",
    "\n",
    "\n",
    "class _AtomicOperationFlagTask(Task):\n",
    "    def __init__(self, flag_name: str, operation: Literal['increment', 'decrement'], *args, **kwargs):\n",
    "        self.flag_name = flag_name\n",
    "        self.operation = operation\n",
    "        super().__init__(*args, **kwargs)\n",
    "\n",
    "    def run(self) -> None:\n",
    "        import requests as req\n",
    "        import os\n",
    "\n",
    "        gateway = os.environ[\"NETUNICORN_GATEWAY_ENDPOINT\"]\n",
    "        experiment_id = os.environ[\"NETUNICORN_EXPERIMENT_ID\"]\n",
    "\n",
    "        req.post(\n",
    "            f\"{gateway}/api/v1/experiment/{experiment_id}/flag/{self.flag_name}/{self.operation}\",\n",
    "        ).raise_for_status()\n",
    "\n",
    "\n",
    "class AtomicIncrementFlagTask(_AtomicOperationFlagTask):\n",
    "    def __init__(self, flag_name: str, *args, **kwargs):\n",
    "        super().__init__(flag_name, 'increment', *args, **kwargs)\n",
    "\n",
    "\n",
    "class AtomicDecrementFlagTask(_AtomicOperationFlagTask):\n",
    "    def __init__(self, flag_name: str, *args, **kwargs):\n",
    "        super().__init__(flag_name, 'decrement', *args, **kwargs)\n"
   ]
  },
  {
   "cell_type": "code",
   "execution_count": 3,
   "id": "f4657011-f942-47bc-94aa-a1ef63173df8",
   "metadata": {
    "tags": []
   },
   "outputs": [],
   "source": [
    "experiment_name = 'my_cool_experiment'\n",
    "flag_name = 'test'"
   ]
  },
  {
   "cell_type": "code",
   "execution_count": 4,
   "id": "f168fcb1-1c78-470b-b8c4-3d10578397c2",
   "metadata": {
    "tags": []
   },
   "outputs": [
    {
     "data": {
      "text/plain": [
       "Pipeline(d378e2cd-bb65-4100-9312-127e9b9d79bd): [[<__main__.SetFlagTask with name c27b05f8-5dec-4e3a-a238-580c77cb4810>], [<__main__.AtomicIncrementFlagTask with name 90b60a28-e5bd-470c-978e-d695fe141277>, <__main__.AtomicIncrementFlagTask with name 60c8daee-8573-4495-8ec2-9479e9c74499>], [<__main__.AtomicDecrementFlagTask with name 774d07dd-6069-47d4-ac0a-a6b6b26f02d7>, <__main__.AtomicDecrementFlagTask with name edb5faa0-d2ff-4faf-90da-6a57dfa174cf>, <__main__.AtomicDecrementFlagTask with name 0d6f8da6-05d1-4828-888d-242e2f833d15>, <__main__.AtomicDecrementFlagTask with name 2f73ecb6-a04d-42d5-8ad0-d35f5c86ac12>, <__main__.AtomicDecrementFlagTask with name a26d2da9-0b0f-4573-97fe-c33cbf243358>, <__main__.AtomicDecrementFlagTask with name eb5f2fef-eb47-48a1-9008-424956b9c5ab>, <__main__.AtomicDecrementFlagTask with name f12bff99-10ec-42ff-b984-8dfdcf9baed5>, <__main__.AtomicDecrementFlagTask with name f0a761c5-0e65-4fbb-a448-20f04950dd52>], [<__main__.GetFlagTask with name 5b0fd7fe-c991-44d4-a167-5b4c8fbd59bb>]]"
      ]
     },
     "execution_count": 4,
     "metadata": {},
     "output_type": "execute_result"
    }
   ],
   "source": [
    "pipeline = Pipeline()\n",
    "pipeline.environment_definition.image = \"localhost:5000/netunicorn-executor:latest\"\n",
    "(\n",
    "    pipeline\n",
    "    .then(\n",
    "        SetFlagTask(experiment_name, FlagValues(text_value='abcd')),\n",
    "    )\n",
    "    .then([\n",
    "        AtomicIncrementFlagTask(flag_name),\n",
    "        AtomicIncrementFlagTask(flag_name)\n",
    "    ])\n",
    "    .then([\n",
    "        AtomicDecrementFlagTask(flag_name),\n",
    "        AtomicDecrementFlagTask(flag_name),\n",
    "        AtomicDecrementFlagTask(flag_name),\n",
    "        AtomicDecrementFlagTask(flag_name),\n",
    "        AtomicDecrementFlagTask(flag_name),\n",
    "        AtomicDecrementFlagTask(flag_name),\n",
    "        AtomicDecrementFlagTask(flag_name),\n",
    "        AtomicDecrementFlagTask(flag_name),\n",
    "    ])\n",
    "    .then(\n",
    "        GetFlagTask(flag_name)\n",
    "    )\n",
    ")"
   ]
  },
  {
   "cell_type": "code",
   "execution_count": 5,
   "id": "b3b71325-7a97-42f6-9739-57f43a604dcf",
   "metadata": {
    "tags": []
   },
   "outputs": [
    {
     "data": {
      "text/plain": [
       "True"
      ]
     },
     "execution_count": 5,
     "metadata": {},
     "output_type": "execute_result"
    }
   ],
   "source": [
    "client = RemoteClient(endpoint=\"http://127.0.0.1:26611\", login=\"test\", password=\"test\")\n",
    "client.healthcheck()"
   ]
  },
  {
   "cell_type": "code",
   "execution_count": 6,
   "id": "35d332e8-d7f3-4207-ab7e-27a610f8fb19",
   "metadata": {
    "tags": []
   },
   "outputs": [
    {
     "name": "stdout",
     "output_type": "stream",
     "text": [
      "[dockerhost]\n"
     ]
    }
   ],
   "source": [
    "nodes = client.get_nodes()\n",
    "for node in nodes:\n",
    "    print(node)\n",
    "\n",
    "current_nodes = nodes.take(1)"
   ]
  },
  {
   "cell_type": "code",
   "execution_count": 7,
   "id": "bf1c81bf-8de0-4e6d-94f4-1325b0d4336b",
   "metadata": {
    "tags": []
   },
   "outputs": [
    {
     "name": "stdout",
     "output_type": "stream",
     "text": [
      "<Deployment: Node=dockerhost, executor_id=, prepared=False>\n"
     ]
    }
   ],
   "source": [
    "experiment = Experiment().map(pipeline, current_nodes)\n",
    "print(experiment)"
   ]
  },
  {
   "cell_type": "code",
   "execution_count": 8,
   "id": "83f5efe2-db97-4460-b6df-f7c13373c961",
   "metadata": {
    "tags": []
   },
   "outputs": [
    {
     "data": {
      "text/plain": [
       "'my_cool_experiment'"
      ]
     },
     "execution_count": 8,
     "metadata": {},
     "output_type": "execute_result"
    }
   ],
   "source": [
    "try:\n",
    "    client.delete_experiment(experiment_name)\n",
    "except Exception:\n",
    "    pass\n",
    "\n",
    "client.prepare_experiment(experiment, experiment_name)"
   ]
  },
  {
   "cell_type": "code",
   "execution_count": 9,
   "id": "6dd055ec-6258-4842-824f-fc3b31518aa5",
   "metadata": {
    "tags": []
   },
   "outputs": [
    {
     "data": {
      "text/plain": [
       "ExperimentExecutionInformation(status=<ExperimentStatus.READY: 2>, experiment=<Deployment: Node=dockerhost, executor_id=237bc1dd-989a-4b9e-8376-2dc5aba86480, prepared=True>, execution_result=None)"
      ]
     },
     "execution_count": 9,
     "metadata": {},
     "output_type": "execute_result"
    }
   ],
   "source": [
    "client.get_experiment_status(experiment_name)"
   ]
  },
  {
   "cell_type": "code",
   "execution_count": 10,
   "id": "9c0c2228-9629-4c32-8dc9-5465eb5e3136",
   "metadata": {
    "tags": []
   },
   "outputs": [
    {
     "data": {
      "text/plain": [
       "'my_cool_experiment'"
      ]
     },
     "execution_count": 10,
     "metadata": {},
     "output_type": "execute_result"
    }
   ],
   "source": [
    "client.start_execution(experiment_name)"
   ]
  },
  {
   "cell_type": "code",
   "execution_count": 11,
   "id": "443f05dd-08ec-4202-aad2-67bfbcde6565",
   "metadata": {
    "tags": []
   },
   "outputs": [
    {
     "data": {
      "text/plain": [
       "ExperimentExecutionInformation(status=<ExperimentStatus.FINISHED: 4>, experiment=<Deployment: Node=dockerhost, executor_id=237bc1dd-989a-4b9e-8376-2dc5aba86480, prepared=True>, execution_result=[DeploymentExecutionResult(node=dockerhost, result=[<Success: defaultdict(<class 'list'>, {'c27b05f8-5dec-4e3a-a238-580c77cb4810': [<Success: 0>], '90b60a28-e5bd-470c-978e-d695fe141277': [<Success: 0>], '60c8daee-8573-4495-8ec2-9479e9c74499': [<Success: 0>], '774d07dd-6069-47d4-ac0a-a6b6b26f02d7': [<Success: 0>], 'edb5faa0-d2ff-4faf-90da-6a57dfa174cf': [<Success: 0>], '0d6f8da6-05d1-4828-888d-242e2f833d15': [<Success: 0>], '2f73ecb6-a04d-42d5-8ad0-d35f5c86ac12': [<Success: 0>], 'a26d2da9-0b0f-4573-97fe-c33cbf243358': [<Success: 0>], 'eb5f2fef-eb47-48a1-9008-424956b9c5ab': [<Success: 0>], 'f12bff99-10ec-42ff-b984-8dfdcf9baed5': [<Success: 0>], 'f0a761c5-0e65-4fbb-a448-20f04950dd52': [<Success: 0>], '5b0fd7fe-c991-44d4-a167-5b4c8fbd59bb': [<Success: text_value=None int_value=-6>]})>, ['Parsed configuration: Gateway located on http://gateway:26512\\n', 'Current directory: /\\n', 'Successfully received pipeline.\\n', 'Pipeline finished, start reporting results.\\n']], error=None)])"
      ]
     },
     "execution_count": 11,
     "metadata": {},
     "output_type": "execute_result"
    }
   ],
   "source": [
    "client.get_experiment_status(experiment_name)"
   ]
  },
  {
   "cell_type": "code",
   "execution_count": 12,
   "id": "2ac70dfa-b13a-4e8b-8518-3703fe559320",
   "metadata": {
    "tags": []
   },
   "outputs": [
    {
     "data": {
      "text/plain": [
       "FlagValues(text_value=None, int_value=-6)"
      ]
     },
     "execution_count": 12,
     "metadata": {},
     "output_type": "execute_result"
    }
   ],
   "source": [
    "client.get_flag_values(experiment_name, flag_name)"
   ]
  },
  {
   "cell_type": "code",
   "execution_count": null,
   "id": "f85c4b52-ebd9-4659-9d12-c01d505dd37a",
   "metadata": {},
   "outputs": [],
   "source": []
  }
 ],
 "metadata": {
  "kernelspec": {
   "display_name": "netunicorn",
   "language": "python",
   "name": "netunicorn"
  },
  "language_info": {
   "codemirror_mode": {
    "name": "ipython",
    "version": 3
   },
   "file_extension": ".py",
   "mimetype": "text/x-python",
   "name": "python",
   "nbconvert_exporter": "python",
   "pygments_lexer": "ipython3",
   "version": "3.10.9"
  }
 },
 "nbformat": 4,
 "nbformat_minor": 5
}
