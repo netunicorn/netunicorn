{
 "cells": [
  {
   "cell_type": "markdown",
   "source": [
    "# Flags\n",
    "\n",
    "In this tutorial, we will explore flags concept - a synchronization method between pipelines and nodes.\n",
    "\n",
    "Flags are used to synchronize pipeline execution between different nodes, and stored in the netUnicorn daytabase.\n",
    "\n",
    "Flags could be set with SetFlagTask or manually via client with the `client.set_flag_values` method.\n",
    "\n",
    "Let's import flag-related tasks and FlagValues class:"
   ],
   "metadata": {
    "collapsed": false
   },
   "id": "20b6e1ae2399a8c5"
  },
  {
   "cell_type": "code",
   "execution_count": 1,
   "id": "initial_id",
   "metadata": {
    "collapsed": true,
    "ExecuteTime": {
     "end_time": "2023-10-24T01:24:16.957436726Z",
     "start_time": "2023-10-24T01:24:16.802236584Z"
    }
   },
   "outputs": [],
   "source": [
    "import os\n",
    "\n",
    "from netunicorn.library.tasks.flags import (\n",
    "    GetFlagTask,\n",
    "    AtomicDecrementFlagTask,\n",
    "    AtomicIncrementFlagTask,\n",
    "    SetFlagTask,\n",
    "    WaitForExactFlagResultTask,\n",
    "    FlagValues\n",
    ")\n",
    "\n",
    "from netunicorn.base import Pipeline, Experiment\n",
    "from netunicorn.client import RemoteClient"
   ]
  },
  {
   "cell_type": "code",
   "execution_count": 2,
   "outputs": [],
   "source": [
    "# how many clients we will have\n",
    "clients_count = 3\n",
    "if os.environ.get('NETUNICORN_ENDPOINT', 'http://localhost:26611')  == 'http://localhost:26611':\n",
    "    clients_count = 1"
   ],
   "metadata": {
    "collapsed": false,
    "ExecuteTime": {
     "end_time": "2023-10-24T01:24:17.002711312Z",
     "start_time": "2023-10-24T01:24:17.002230495Z"
    }
   },
   "id": "93cc46e8e89cc6b2"
  },
  {
   "cell_type": "markdown",
   "source": [
    "Here we will define two different pipelines - one for server node and one for clients.\n",
    "\n",
    "Server pipeline will control flags to synchronize clients, and clients will read flags and atomically increment and decrement them to notify server about their state."
   ],
   "metadata": {
    "collapsed": false
   },
   "id": "5e58d4a68bc73439"
  },
  {
   "cell_type": "code",
   "execution_count": 3,
   "outputs": [],
   "source": [
    "server_pipeline = (\n",
    "    Pipeline()\n",
    "    .then(SetFlagTask(\"clients_control\", flag_values=FlagValues(text_value=\"stage 1\", int_value=0)))\n",
    "    .then(WaitForExactFlagResultTask(\n",
    "        flag_name=\"clients_control\",\n",
    "        values=FlagValues(text_value=\"stage 1\", int_value=clients_count))\n",
    "    )\n",
    "    .then(SetFlagTask(\"clients_control\", flag_values=FlagValues(text_value=\"stage 2\", int_value=clients_count)))\n",
    "    .then(WaitForExactFlagResultTask(\n",
    "        flag_name=\"clients_control\",\n",
    "        values=FlagValues(text_value=\"stage 2\", int_value=0))\n",
    "    )\n",
    "    .then(GetFlagTask(\"clients_control\"))\n",
    ")\n",
    "\n",
    "clients_pipeline = (\n",
    "    Pipeline()\n",
    "    .then(WaitForExactFlagResultTask(\n",
    "        flag_name=\"clients_control\",\n",
    "        values=FlagValues(text_value=\"stage 1\", int_value=0))\n",
    "    )\n",
    "    .then(AtomicIncrementFlagTask(\"clients_control\"))\n",
    "    .then(WaitForExactFlagResultTask(\n",
    "        flag_name=\"clients_control\",\n",
    "        values=FlagValues(text_value=\"stage 2\", int_value=clients_count))\n",
    "    )\n",
    "    .then(AtomicDecrementFlagTask(\"clients_control\"))\n",
    "    .then(GetFlagTask(\"clients_control\"))\n",
    ")"
   ],
   "metadata": {
    "collapsed": false,
    "ExecuteTime": {
     "end_time": "2023-10-24T01:24:17.003083816Z",
     "start_time": "2023-10-24T01:24:17.002578143Z"
    }
   },
   "id": "3cd37085c0fe79eb"
  },
  {
   "cell_type": "markdown",
   "source": [
    "As usual, let's get access to our infrastructure"
   ],
   "metadata": {
    "collapsed": false
   },
   "id": "8f21c744ff52c6bd"
  },
  {
   "cell_type": "code",
   "execution_count": 4,
   "outputs": [],
   "source": [
    "# if you have .env file locally for storing credentials\n",
    "if '.env' in os.listdir():\n",
    "    from dotenv import load_dotenv\n",
    "    load_dotenv(\".env\")\n",
    "\n",
    "# API connection endpoint\n",
    "endpoint = os.environ.get('NETUNICORN_ENDPOINT') or 'http://localhost:26611'\n",
    "\n",
    "# user login\n",
    "login = os.environ.get('NETUNICORN_LOGIN') or 'test'\n",
    "\n",
    "# user password\n",
    "password = os.environ.get('NETUNICORN_PASSWORD') or 'test'"
   ],
   "metadata": {
    "collapsed": false,
    "ExecuteTime": {
     "end_time": "2023-10-24T01:24:17.003733227Z",
     "start_time": "2023-10-24T01:24:17.002871781Z"
    }
   },
   "id": "b793ebd050723544"
  },
  {
   "cell_type": "code",
   "execution_count": 5,
   "outputs": [
    {
     "data": {
      "text/plain": "True"
     },
     "execution_count": 5,
     "metadata": {},
     "output_type": "execute_result"
    }
   ],
   "source": [
    "# let's create a client with these parameters\n",
    "client = RemoteClient(endpoint=endpoint, login=login, password=password)\n",
    "client.healthcheck()"
   ],
   "metadata": {
    "collapsed": false,
    "ExecuteTime": {
     "end_time": "2023-10-24T01:24:17.575859518Z",
     "start_time": "2023-10-24T01:24:17.289905025Z"
    }
   },
   "id": "b99fc35db66010f"
  },
  {
   "cell_type": "markdown",
   "source": [
    "We will demonstrate this tutorial on our infrastructure. If you're executing it on a different set of available nodes, please change the following code to match your infrastructure."
   ],
   "metadata": {
    "collapsed": false
   },
   "id": "79a20f1641cefbe"
  },
  {
   "cell_type": "code",
   "execution_count": 6,
   "outputs": [],
   "source": [
    "nodes = client.get_nodes()"
   ],
   "metadata": {
    "collapsed": false,
    "ExecuteTime": {
     "end_time": "2023-10-24T01:24:59.622510595Z",
     "start_time": "2023-10-24T01:24:18.129716947Z"
    }
   },
   "id": "e1fde6f2df628e0c"
  },
  {
   "cell_type": "code",
   "execution_count": 7,
   "outputs": [],
   "source": [
    "client_nodes = nodes.filter(lambda node: node.name.startswith(\"raspi\")).take(clients_count)\n",
    "server_node = nodes.filter(lambda node: node.name.startswith(\"snl-server\")).take(1)\n",
    "\n",
    "if os.environ.get('NETUNICORN_ENDPOINT', 'http://localhost:26611')  == 'http://localhost:26611':\n",
    "    client_nodes = nodes.take(1)\n",
    "    server_node = nodes.take(1)"
   ],
   "metadata": {
    "collapsed": false,
    "ExecuteTime": {
     "end_time": "2023-10-24T01:24:59.622736377Z",
     "start_time": "2023-10-24T01:24:59.622185729Z"
    }
   },
   "id": "3cf0a303d1b969ba"
  },
  {
   "cell_type": "code",
   "execution_count": 8,
   "outputs": [
    {
     "name": "stdout",
     "output_type": "stream",
     "text": [
      "[raspi-e4:5f:01:56:d8:cd, raspi-e4:5f:01:9b:85:9c, raspi-e4:5f:01:75:6b:2c]\n",
      "[snl-server-5]\n"
     ]
    }
   ],
   "source": [
    "print(client_nodes)\n",
    "print(server_node)"
   ],
   "metadata": {
    "collapsed": false,
    "ExecuteTime": {
     "end_time": "2023-10-24T01:24:59.622962840Z",
     "start_time": "2023-10-24T01:24:59.622423383Z"
    }
   },
   "id": "7b37b7a7bf6c0a4a"
  },
  {
   "cell_type": "code",
   "execution_count": 9,
   "outputs": [
    {
     "data": {
      "text/plain": " - Deployment: Node=snl-server-5, executor_id=, prepared=False\n - Deployment: Node=raspi-e4:5f:01:56:d8:cd, executor_id=, prepared=False\n - Deployment: Node=raspi-e4:5f:01:9b:85:9c, executor_id=, prepared=False\n - Deployment: Node=raspi-e4:5f:01:75:6b:2c, executor_id=, prepared=False"
     },
     "execution_count": 9,
     "metadata": {},
     "output_type": "execute_result"
    }
   ],
   "source": [
    "experiment = Experiment().map(server_pipeline, server_node).map(clients_pipeline, client_nodes)\n",
    "experiment"
   ],
   "metadata": {
    "collapsed": false,
    "ExecuteTime": {
     "end_time": "2023-10-24T01:24:59.623668246Z",
     "start_time": "2023-10-24T01:24:59.622604902Z"
    }
   },
   "id": "9bc7851fa39930be"
  },
  {
   "cell_type": "code",
   "execution_count": 10,
   "outputs": [],
   "source": [
    "experiment_name = \"flags-experiment-1\""
   ],
   "metadata": {
    "collapsed": false,
    "ExecuteTime": {
     "end_time": "2023-10-24T01:24:59.623760248Z",
     "start_time": "2023-10-24T01:24:59.622710058Z"
    }
   },
   "id": "f8aac565e724e425"
  },
  {
   "cell_type": "code",
   "execution_count": 11,
   "outputs": [],
   "source": [
    "if experiment_name in client.get_experiments():\n",
    "    client.delete_experiment(experiment_name)"
   ],
   "metadata": {
    "collapsed": false,
    "ExecuteTime": {
     "end_time": "2023-10-24T01:25:00.240647901Z",
     "start_time": "2023-10-24T01:24:59.622782393Z"
    }
   },
   "id": "a2cd9cd6c56c4b3d"
  },
  {
   "cell_type": "code",
   "execution_count": 12,
   "outputs": [
    {
     "data": {
      "text/plain": "'flags-experiment-1'"
     },
     "execution_count": 12,
     "metadata": {},
     "output_type": "execute_result"
    }
   ],
   "source": [
    "client.prepare_experiment(experiment, experiment_name)"
   ],
   "metadata": {
    "collapsed": false,
    "ExecuteTime": {
     "end_time": "2023-10-24T01:25:00.641336210Z",
     "start_time": "2023-10-24T01:25:00.242222119Z"
    }
   },
   "id": "31e19ef566eef6fb"
  },
  {
   "cell_type": "code",
   "execution_count": 14,
   "outputs": [
    {
     "data": {
      "text/plain": "ExperimentExecutionInformation:\nstatus: ExperimentStatus.READY\nexperiment: \n - Deployment: Node=snl-server-5, executor_id=c796c28c-dce7-466c-913a-d318dd9b15d7, prepared=True\n - Deployment: Node=raspi-e4:5f:01:56:d8:cd, executor_id=64bcc719-85d7-46e6-b3e3-ce4a8891859c, prepared=True\n - Deployment: Node=raspi-e4:5f:01:9b:85:9c, executor_id=00e3911a-adc1-43ab-8b77-2c9e6dceae55, prepared=True\n - Deployment: Node=raspi-e4:5f:01:75:6b:2c, executor_id=91e46e19-7719-4611-b166-3a9ed38cbcb4, prepared=True\nexecution_result:\nNone"
     },
     "execution_count": 14,
     "metadata": {},
     "output_type": "execute_result"
    }
   ],
   "source": [
    "client.get_experiment_status(experiment_name)"
   ],
   "metadata": {
    "collapsed": false,
    "ExecuteTime": {
     "end_time": "2023-10-24T01:28:32.375982478Z",
     "start_time": "2023-10-24T01:28:31.928484146Z"
    }
   },
   "id": "6389fafef17c7363"
  },
  {
   "cell_type": "code",
   "execution_count": 15,
   "outputs": [
    {
     "data": {
      "text/plain": "'flags-experiment-1'"
     },
     "execution_count": 15,
     "metadata": {},
     "output_type": "execute_result"
    }
   ],
   "source": [
    "client.start_execution(experiment_name)"
   ],
   "metadata": {
    "collapsed": false,
    "ExecuteTime": {
     "end_time": "2023-10-24T01:28:34.070376531Z",
     "start_time": "2023-10-24T01:28:33.626067009Z"
    }
   },
   "id": "ec23f97841597293"
  },
  {
   "cell_type": "code",
   "execution_count": 16,
   "outputs": [],
   "source": [
    "result = client.get_experiment_status(experiment_name)"
   ],
   "metadata": {
    "collapsed": false,
    "ExecuteTime": {
     "end_time": "2023-10-24T01:32:57.701092122Z",
     "start_time": "2023-10-24T01:32:57.257167075Z"
    }
   },
   "id": "517ef6059cb86c98"
  },
  {
   "cell_type": "code",
   "execution_count": 17,
   "outputs": [
    {
     "data": {
      "text/plain": "ExperimentExecutionInformation:\nstatus: ExperimentStatus.FINISHED\nexperiment: \n - Deployment: Node=snl-server-5, executor_id=c796c28c-dce7-466c-913a-d318dd9b15d7, prepared=True\n - Deployment: Node=raspi-e4:5f:01:56:d8:cd, executor_id=64bcc719-85d7-46e6-b3e3-ce4a8891859c, prepared=True\n - Deployment: Node=raspi-e4:5f:01:9b:85:9c, executor_id=00e3911a-adc1-43ab-8b77-2c9e6dceae55, prepared=True\n - Deployment: Node=raspi-e4:5f:01:75:6b:2c, executor_id=91e46e19-7719-4611-b166-3a9ed38cbcb4, prepared=True\nexecution_result:\n[DeploymentExecutionResult:\n  Node: snl-server-5\n  Result: <class 'returns.result.Success'>\n    6429e0dc-79cb-4d83-863c-daff02416449: [<Success: 0>]\n    eb4c4b51-f2a8-4882-9337-884869a72cb2: [<Success: {'text_value': 'stage 1', 'int_value': 3}>]\n    942abd8d-30a5-43a4-b917-54898262022d: [<Success: 0>]\n    4fe20f85-a215-43d5-8dac-dcb0c2f10878: [<Success: {'text_value': 'stage 2', 'int_value': 0}>]\n    4009483d-0809-49c3-ac87-a57534654810: [<Success: text_value='stage 2' int_value=0>]\n  Logs:\n    Parsed configuration: Gateway located on https://pinot.cs.ucsb.edu/dev/netunicorn/gateway\n    Current directory: /\n    Pipeline loaded from local file, executing.\n    Pipeline finished, start reporting results.\n\n, DeploymentExecutionResult:\n  Node: raspi-e4:5f:01:56:d8:cd\n  Result: <class 'returns.result.Success'>\n    8ca84e6a-13e5-4e30-a83c-fbc150c8f793: [<Success: {'text_value': 'stage 1', 'int_value': 0}>]\n    5e4c4f23-b0d6-480e-a4e3-937342d833e7: [<Success: 0>]\n    0e680c27-9185-4831-8faa-90cec1c0b9c0: [<Success: {'text_value': 'stage 2', 'int_value': 3}>]\n    5d362d47-47db-418c-80d7-67468f0cb0fe: [<Success: 0>]\n    f3b2639b-d8f8-4b0a-aff2-71db85bf7289: [<Success: text_value='stage 2' int_value=0>]\n  Logs:\n    Parsed configuration: Gateway located on https://pinot.cs.ucsb.edu/dev/netunicorn/gateway\n    Current directory: /\n    Pipeline loaded from local file, executing.\n    Pipeline finished, start reporting results.\n\n, DeploymentExecutionResult:\n  Node: raspi-e4:5f:01:9b:85:9c\n  Result: <class 'returns.result.Success'>\n    8ca84e6a-13e5-4e30-a83c-fbc150c8f793: [<Success: {'text_value': 'stage 1', 'int_value': 0}>]\n    5e4c4f23-b0d6-480e-a4e3-937342d833e7: [<Success: 0>]\n    0e680c27-9185-4831-8faa-90cec1c0b9c0: [<Success: {'text_value': 'stage 2', 'int_value': 3}>]\n    5d362d47-47db-418c-80d7-67468f0cb0fe: [<Success: 0>]\n    f3b2639b-d8f8-4b0a-aff2-71db85bf7289: [<Success: text_value='stage 2' int_value=0>]\n  Logs:\n    Parsed configuration: Gateway located on https://pinot.cs.ucsb.edu/dev/netunicorn/gateway\n    Current directory: /\n    Pipeline loaded from local file, executing.\n    Pipeline finished, start reporting results.\n\n, DeploymentExecutionResult:\n  Node: raspi-e4:5f:01:75:6b:2c\n  Result: <class 'returns.result.Success'>\n    8ca84e6a-13e5-4e30-a83c-fbc150c8f793: [<Success: {'text_value': 'stage 1', 'int_value': 0}>]\n    5e4c4f23-b0d6-480e-a4e3-937342d833e7: [<Success: 0>]\n    0e680c27-9185-4831-8faa-90cec1c0b9c0: [<Success: {'text_value': 'stage 2', 'int_value': 3}>]\n    5d362d47-47db-418c-80d7-67468f0cb0fe: [<Success: 0>]\n    f3b2639b-d8f8-4b0a-aff2-71db85bf7289: [<Success: text_value='stage 2' int_value=0>]\n  Logs:\n    Parsed configuration: Gateway located on https://pinot.cs.ucsb.edu/dev/netunicorn/gateway\n    Current directory: /\n    Pipeline loaded from local file, executing.\n    Pipeline finished, start reporting results.\n\n]"
     },
     "execution_count": 17,
     "metadata": {},
     "output_type": "execute_result"
    }
   ],
   "source": [
    "result"
   ],
   "metadata": {
    "collapsed": false,
    "ExecuteTime": {
     "end_time": "2023-10-24T01:32:57.705022174Z",
     "start_time": "2023-10-24T01:32:57.703059182Z"
    }
   },
   "id": "ed54502d21b5d559"
  },
  {
   "cell_type": "code",
   "execution_count": 18,
   "outputs": [
    {
     "data": {
      "text/plain": "FlagValues(text_value='stage 2', int_value=0)"
     },
     "execution_count": 18,
     "metadata": {},
     "output_type": "execute_result"
    }
   ],
   "source": [
    "client.get_flag_values(experiment_name, \"clients_control\")"
   ],
   "metadata": {
    "collapsed": false,
    "ExecuteTime": {
     "end_time": "2023-10-24T01:33:57.156941385Z",
     "start_time": "2023-10-24T01:33:56.724104431Z"
    }
   },
   "id": "2558cb013e030cd8"
  }
 ],
 "metadata": {
  "kernelspec": {
   "display_name": "Python 3",
   "language": "python",
   "name": "python3"
  },
  "language_info": {
   "codemirror_mode": {
    "name": "ipython",
    "version": 2
   },
   "file_extension": ".py",
   "mimetype": "text/x-python",
   "name": "python",
   "nbconvert_exporter": "python",
   "pygments_lexer": "ipython2",
   "version": "2.7.6"
  }
 },
 "nbformat": 4,
 "nbformat_minor": 5
}
