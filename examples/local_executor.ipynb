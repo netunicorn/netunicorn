{
 "cells": [
  {
   "cell_type": "markdown",
   "id": "52391654-a2b2-4c77-abf5-69bbfd95e0e6",
   "metadata": {},
   "source": [
    "# Local execution\n",
    "Sometimes (often) you want to check how your pipeline is working locally before submitting it.\n",
    "\n",
    "Here's the manual way of creating the pipeline and executing it."
   ]
  },
  {
   "cell_type": "markdown",
   "id": "4947b00f-910c-40df-b13d-7681846e5a39",
   "metadata": {},
   "source": [
    "At first, install the netunicorn-executor."
   ]
  },
  {
   "cell_type": "code",
   "execution_count": 1,
   "id": "b67fc8a4-e68c-4dc1-95e0-e420f7fc0e1b",
   "metadata": {
    "tags": []
   },
   "outputs": [
    {
     "name": "stdout",
     "output_type": "stream",
     "text": [
      "Requirement already satisfied: netunicorn-executor in /home/kell/repos/netunicorn/netunicorn-executor/src (0.2.4)\r\n",
      "Requirement already satisfied: returns in /home/kell/miniconda3/envs/netunicorn/lib/python3.10/site-packages (from netunicorn-executor) (0.19.0)\r\n",
      "Requirement already satisfied: cloudpickle in /home/kell/.local/lib/python3.10/site-packages (from netunicorn-executor) (2.2.0)\r\n",
      "Requirement already satisfied: requests in /home/kell/miniconda3/envs/netunicorn/lib/python3.10/site-packages (from netunicorn-executor) (2.28.2)\r\n",
      "Requirement already satisfied: netunicorn-base>=0.2.0 in /home/kell/repos/netunicorn/netunicorn-base/src (from netunicorn-executor) (0.2.5)\r\n",
      "Requirement already satisfied: typing-extensions in /home/kell/miniconda3/envs/netunicorn/lib/python3.10/site-packages (from netunicorn-base>=0.2.0->netunicorn-executor) (4.4.0)\r\n",
      "Requirement already satisfied: urllib3<1.27,>=1.21.1 in /home/kell/miniconda3/envs/netunicorn/lib/python3.10/site-packages (from requests->netunicorn-executor) (1.26.14)\r\n",
      "Requirement already satisfied: charset-normalizer<4,>=2 in /home/kell/miniconda3/envs/netunicorn/lib/python3.10/site-packages (from requests->netunicorn-executor) (3.0.1)\r\n",
      "Requirement already satisfied: certifi>=2017.4.17 in /home/kell/miniconda3/envs/netunicorn/lib/python3.10/site-packages (from requests->netunicorn-executor) (2022.12.7)\r\n",
      "Requirement already satisfied: idna<4,>=2.5 in /home/kell/miniconda3/envs/netunicorn/lib/python3.10/site-packages (from requests->netunicorn-executor) (3.4)\r\n"
     ]
    }
   ],
   "source": [
    "!pip install netunicorn-executor"
   ]
  },
  {
   "cell_type": "markdown",
   "id": "49324827-24b8-4887-8458-31f577806310",
   "metadata": {},
   "source": [
    "If you do it in the already running asyncio loop (e.g., in Jupyter), you also need to install and import nest_asyncio. This is not required if you run it as a Python script."
   ]
  },
  {
   "cell_type": "code",
   "execution_count": 2,
   "id": "ae7276cd-dd5e-420a-b62d-36bd78e3e7b8",
   "metadata": {
    "tags": []
   },
   "outputs": [
    {
     "name": "stdout",
     "output_type": "stream",
     "text": [
      "Requirement already satisfied: nest-asyncio in /home/kell/miniconda3/envs/netunicorn/lib/python3.10/site-packages (1.5.6)\r\n"
     ]
    }
   ],
   "source": [
    "!pip install nest-asyncio"
   ]
  },
  {
   "cell_type": "code",
   "execution_count": 3,
   "id": "0ff724b6-eef0-4ce2-a6b0-8c711195fc69",
   "metadata": {
    "tags": []
   },
   "outputs": [],
   "source": [
    "import nest_asyncio\n",
    "nest_asyncio.apply()"
   ]
  },
  {
   "cell_type": "markdown",
   "id": "bfe1c41a-91bd-4e7d-baf1-a08a3ee6939d",
   "metadata": {},
   "source": [
    "Then, import and create an executor with any fake parameters."
   ]
  },
  {
   "cell_type": "code",
   "execution_count": 4,
   "id": "6530cdaf-7926-48d3-8ada-03fa16121513",
   "metadata": {
    "tags": []
   },
   "outputs": [],
   "source": [
    "from netunicorn.executor.executor import PipelineExecutor, PipelineExecutorState"
   ]
  },
  {
   "cell_type": "code",
   "execution_count": 5,
   "id": "0504ee04-f170-439f-81b1-d5199282d18f",
   "metadata": {
    "tags": []
   },
   "outputs": [
    {
     "name": "stderr",
     "output_type": "stream",
     "text": [
      "INFO:executor_Unknown:Parsed configuration: Gateway located on fake\n",
      "INFO:executor_Unknown:Current directory: /home/kell/repos/netunicorn/examples\n"
     ]
    }
   ],
   "source": [
    "executor = PipelineExecutor(executor_id=\"\", gateway_endpoint=\"fake\", experiment_id=\"\", heartbeat=False)"
   ]
  },
  {
   "cell_type": "markdown",
   "id": "371a693c-73c6-4e88-bef2-8e3adfba682c",
   "metadata": {},
   "source": [
    "Create your pipeline. We'll use a simple one for that example."
   ]
  },
  {
   "cell_type": "code",
   "execution_count": 6,
   "id": "61b3e1c8-8eea-4a04-b2fe-39b7bf45449f",
   "metadata": {
    "tags": []
   },
   "outputs": [],
   "source": [
    "from netunicorn.base import Pipeline, Task"
   ]
  },
  {
   "cell_type": "code",
   "execution_count": 7,
   "id": "785ffebe-ee22-403b-bee0-32a7e4dd56c8",
   "metadata": {
    "tags": []
   },
   "outputs": [],
   "source": [
    "class DummyTask(Task):\n",
    "    def run(self):\n",
    "        return 0\n",
    "\n",
    "class DummyRepeaterTask(Task):\n",
    "    def __init__(self, lookup_for: str):\n",
    "        self.lookup_for = lookup_for\n",
    "        super().__init__()\n",
    "\n",
    "    def run(self):\n",
    "        previous_results = self.previous_steps[self.lookup_for]\n",
    "        return f\"I've heard of {previous_results}!\"\n",
    "\n",
    "pipeline = Pipeline().then(DummyTask(name=\"dummy1\")).then(DummyRepeaterTask(lookup_for='dummy1'))"
   ]
  },
  {
   "cell_type": "markdown",
   "id": "a20b9d54-d827-414b-baa0-7e32c96ae33a",
   "metadata": {},
   "source": [
    "Then, set `pipeline.report_results` to False (to prevent reporting results to our fake gateway), assign pipeline to executor.pipeline, and manually set the executor state to EXECUTING"
   ]
  },
  {
   "cell_type": "code",
   "execution_count": 8,
   "id": "616e0091-e169-4008-baa3-b48e3f2b4c5a",
   "metadata": {
    "tags": []
   },
   "outputs": [],
   "source": [
    "pipeline.report_results = False\n",
    "executor.pipeline = pipeline\n",
    "executor.state = PipelineExecutorState.EXECUTING"
   ]
  },
  {
   "cell_type": "markdown",
   "id": "0550d2a7-15d8-4614-91c8-df32e270ff5e",
   "metadata": {},
   "source": [
    "And then, call the executor."
   ]
  },
  {
   "cell_type": "code",
   "execution_count": 9,
   "id": "923a3a66-976e-4345-b0d2-0b9194da09c8",
   "metadata": {
    "tags": []
   },
   "outputs": [
    {
     "name": "stderr",
     "output_type": "stream",
     "text": [
      "INFO:executor_Unknown:Pipeline finished, start reporting results.\n",
      "INFO:executor_Unknown:Skipping reporting results due to pipeline setting.\n"
     ]
    }
   ],
   "source": [
    "executor()"
   ]
  },
  {
   "cell_type": "markdown",
   "id": "9d381cf2-e294-4cac-b83c-87b04ccf7108",
   "metadata": {},
   "source": [
    "Now you can explore locally create log file and `executor.pipeline_results`."
   ]
  },
  {
   "cell_type": "code",
   "execution_count": 10,
   "id": "42346d78-951e-4476-b3ec-07db451cebdc",
   "metadata": {
    "tags": []
   },
   "outputs": [
    {
     "name": "stdout",
     "output_type": "stream",
     "text": [
      "<Success: defaultdict(<class 'list'>, {'dummy1': [<Success: 0>], 'cf47420c-70b5-46b4-9cee-9889904171c1': [<Success: I've heard of [<Success: 0>]!>]})>\n"
     ]
    }
   ],
   "source": [
    "print(executor.pipeline_results)"
   ]
  }
 ],
 "metadata": {
  "kernelspec": {
   "display_name": "netunicorn",
   "language": "python",
   "name": "netunicorn"
  },
  "language_info": {
   "codemirror_mode": {
    "name": "ipython",
    "version": 3
   },
   "file_extension": ".py",
   "mimetype": "text/x-python",
   "name": "python",
   "nbconvert_exporter": "python",
   "pygments_lexer": "ipython3",
   "version": "3.10.9"
  }
 },
 "nbformat": 4,
 "nbformat_minor": 5
}
