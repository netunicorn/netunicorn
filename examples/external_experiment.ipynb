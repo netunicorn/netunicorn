{
 "cells": [
  {
   "cell_type": "markdown",
   "source": [
    "# Experiments with a custom Docker image not based on the netunicorn agent image\n",
    "\n",
    "Sometimes you need to use the netUnicorn platform to just deploy your Docker containers to the required nodes, and your Docker containers are not based on the netUnicorn agent image. In this case, you still can use the netUnicorn platform to deploy your containers to the required nodes, and the platform will only deploy containers and wait for timeout or cancel command. The netUnicorn system would not be able to detect experiment completion, so timeout or cancellation are two only triggers to stop the experiment.\n",
    "\n",
    "Let's start with typical preparations."
   ],
   "metadata": {
    "collapsed": false
   },
   "id": "a775d77bfa0d82f4"
  },
  {
   "cell_type": "code",
   "execution_count": null,
   "outputs": [],
   "source": [
    "import os\n",
    "\n",
    "from netunicorn.base import DockerImage, Experiment, Pipeline\n",
    "from netunicorn.client.remote import RemoteClient"
   ],
   "metadata": {
    "collapsed": false
   },
   "id": "initial_id"
  },
  {
   "cell_type": "code",
   "execution_count": null,
   "outputs": [],
   "source": [
    "if '.env' in os.listdir():\n",
    "    from dotenv import load_dotenv\n",
    "    load_dotenv(\".env\")\n",
    "\n",
    "endpoint = os.environ.get('NETUNICORN_ENDPOINT') or 'http://localhost:26611'\n",
    "login = os.environ.get('NETUNICORN_LOGIN') or 'test'\n",
    "password = os.environ.get('NETUNICORN_PASSWORD') or 'test'"
   ],
   "metadata": {
    "collapsed": false
   },
   "id": "6e79ae16a25c2519"
  },
  {
   "cell_type": "code",
   "execution_count": null,
   "outputs": [],
   "source": [
    "client = RemoteClient(endpoint=endpoint, login=login, password=password)\n",
    "client.healthcheck()\n",
    "nodes = client.get_nodes().take(5)"
   ],
   "metadata": {
    "collapsed": false
   },
   "id": "ea08f5d7bd035fd5"
  },
  {
   "cell_type": "markdown",
   "source": [
    "To implement the described scenario, you need to assign a dummy pipeline (e.g., empty one) to the required nodes, set timeout to the value you want the docker container to stay alive, and set your docker image name to the deployment environment definition. The following cell shows how to do it."
   ],
   "metadata": {
    "collapsed": false
   },
   "id": "472610da145f5ffd"
  },
  {
   "cell_type": "code",
   "execution_count": null,
   "outputs": [],
   "source": [
    "pipeline = Pipeline()  # Dummy Pipeline\n",
    "experiment = Experiment().map(pipeline, nodes)  # map to the required nodes\n",
    "for deployment in experiment.deployments:\n",
    "    deployment.keep_alive_timeout_minutes = 10**5  # set timeout to whatever time your experiment needs\n",
    "    deployment.environment_definition = DockerImage(image=\"your_image_name:latest\")  # set your image name"
   ],
   "metadata": {
    "collapsed": false
   },
   "id": "d8153006b58a7023"
  },
  {
   "cell_type": "markdown",
   "source": [
    "Afterward, you can proceed with the default experiment workflow."
   ],
   "metadata": {
    "collapsed": false
   },
   "id": "bad9476405bcff92"
  },
  {
   "cell_type": "code",
   "execution_count": null,
   "outputs": [],
   "source": [
    "experiment_name = 'experiment_cool_name'\n",
    "client.prepare_experiment(experiment, experiment_name)"
   ],
   "metadata": {
    "collapsed": false
   },
   "id": "eb2f335a96636a1f"
  },
  {
   "cell_type": "code",
   "execution_count": null,
   "outputs": [],
   "source": [
    "client.start_execution(experiment_name)"
   ],
   "metadata": {
    "collapsed": false
   },
   "id": "adadf34005d68315"
  },
  {
   "cell_type": "markdown",
   "source": [
    "As a result, netUnicorn will deploy containers and will expect keep-alive pings from them. As the containers are not based on the agent's image and will not provide keep-alive pings, the netUnicorn system will wait for the timeout or cancellation command to stop the experiment."
   ],
   "metadata": {
    "collapsed": false
   },
   "id": "d09eb4389033e51c"
  }
 ],
 "metadata": {
  "kernelspec": {
   "display_name": "Python 3",
   "language": "python",
   "name": "python3"
  },
  "language_info": {
   "codemirror_mode": {
    "name": "ipython",
    "version": 2
   },
   "file_extension": ".py",
   "mimetype": "text/x-python",
   "name": "python",
   "nbconvert_exporter": "python",
   "pygments_lexer": "ipython2",
   "version": "2.7.6"
  }
 },
 "nbformat": 4,
 "nbformat_minor": 5
}
