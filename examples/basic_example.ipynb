{
 "cells": [
  {
   "cell_type": "markdown",
   "metadata": {
    "collapsed": false
   },
   "source": [
    "# netunicorn usage example\n",
    "This example shows basic client-side usage of netunicorn API.\n",
    "Prerequisites:\n",
    "- overall understanding of the project\n",
    "- deployed netunicorn infrastructure and director services\n",
    "- known `endpoint`, `login`, and `password` for the connection"
   ]
  },
  {
   "cell_type": "markdown",
   "metadata": {
    "collapsed": false
   },
   "source": [
    "To work with the project, you need to install several packages:\n",
    "- `netunicorn-base` - provides abstractions and classes to create pipelines and define experiments. If you want to just define your pipeline and write tasks, you need only this package.\n",
    "- `netunicorn-client` - provides connectivity to netunicorn infrastructure. You need this package to submit and execute experiments.\n",
    "- `netunicorn-library` - a library of predefined and contributed tasks for the platform. You can use tasks in this package for your pipelines, and submit your code here to share. Please note, that most of the tasks there are provided 'as-is' by other teams and developers, and netunicorn team doesn't guarantee their correctness."
   ]
  },
  {
   "cell_type": "code",
   "execution_count": 1,
   "metadata": {
    "collapsed": false
   },
   "outputs": [
    {
     "name": "stdout",
     "output_type": "stream",
     "text": [
      "Requirement already satisfied: netunicorn-base in /home/kell/repos/unicorn/netunicorn-base/src (0.1.1)\r\n",
      "Requirement already satisfied: returns in /home/kell/miniconda3/envs/unicorn/lib/python3.8/site-packages (from netunicorn-base) (0.19.0)\r\n",
      "Requirement already satisfied: typing-extensions<5.0,>=4.0 in /home/kell/miniconda3/envs/unicorn/lib/python3.8/site-packages (from returns->netunicorn-base) (4.3.0)\r\n",
      "Requirement already satisfied: netunicorn-client in /home/kell/repos/unicorn/netunicorn-client/src (0.1.1)\r\n",
      "Requirement already satisfied: returns in /home/kell/miniconda3/envs/unicorn/lib/python3.8/site-packages (from netunicorn-client) (0.19.0)\r\n",
      "Requirement already satisfied: cloudpickle in /home/kell/miniconda3/envs/unicorn/lib/python3.8/site-packages (from netunicorn-client) (2.1.0)\r\n",
      "Requirement already satisfied: requests in /home/kell/miniconda3/envs/unicorn/lib/python3.8/site-packages (from netunicorn-client) (2.28.1)\r\n",
      "Requirement already satisfied: netunicorn-base in /home/kell/repos/unicorn/netunicorn-base/src (from netunicorn-client) (0.1.1)\r\n",
      "Requirement already satisfied: certifi>=2017.4.17 in /home/kell/miniconda3/envs/unicorn/lib/python3.8/site-packages (from requests->netunicorn-client) (2022.9.24)\r\n",
      "Requirement already satisfied: urllib3<1.27,>=1.21.1 in /home/kell/miniconda3/envs/unicorn/lib/python3.8/site-packages (from requests->netunicorn-client) (1.26.12)\r\n",
      "Requirement already satisfied: charset-normalizer<3,>=2 in /home/kell/miniconda3/envs/unicorn/lib/python3.8/site-packages (from requests->netunicorn-client) (2.1.0)\r\n",
      "Requirement already satisfied: idna<4,>=2.5 in /home/kell/miniconda3/envs/unicorn/lib/python3.8/site-packages (from requests->netunicorn-client) (3.4)\r\n",
      "Requirement already satisfied: typing-extensions<5.0,>=4.0 in /home/kell/miniconda3/envs/unicorn/lib/python3.8/site-packages (from returns->netunicorn-client) (4.3.0)\r\n",
      "Requirement already satisfied: netunicorn-library in /home/kell/repos/unicorn/netunicorn-library/src (0.1.1)\r\n",
      "Requirement already satisfied: netunicorn-base in /home/kell/repos/unicorn/netunicorn-base/src (from netunicorn-library) (0.1.1)\r\n",
      "Requirement already satisfied: returns in /home/kell/miniconda3/envs/unicorn/lib/python3.8/site-packages (from netunicorn-base->netunicorn-library) (0.19.0)\r\n",
      "Requirement already satisfied: typing-extensions<5.0,>=4.0 in /home/kell/miniconda3/envs/unicorn/lib/python3.8/site-packages (from returns->netunicorn-base->netunicorn-library) (4.3.0)\r\n"
     ]
    }
   ],
   "source": [
    "%pip install netunicorn-base\n",
    "%pip install netunicorn-client\n",
    "%pip install netunicorn-library"
   ]
  },
  {
   "cell_type": "markdown",
   "metadata": {
    "collapsed": false
   },
   "source": [
    "Let's import needed classes"
   ]
  },
  {
   "cell_type": "code",
   "execution_count": 2,
   "metadata": {
    "collapsed": false
   },
   "outputs": [],
   "source": [
    "# client to connect to the infrastructure\n",
    "from netunicorn.client.remote import RemoteClient\n",
    "\n",
    "# basic abstraction for experiment creation and management\n",
    "from netunicorn.base.experiment import Experiment\n",
    "from netunicorn.base.pipeline import Pipeline\n",
    "\n",
    "# task to be executed in the pipeline\n",
    "# you can write your own tasks, but now let's use simple predefined one\n",
    "from netunicorn.library.basic import SleepTask"
   ]
  },
  {
   "cell_type": "markdown",
   "metadata": {
    "collapsed": false
   },
   "source": [
    "At first, we want to define pipeline to execute. Pipeline consists of tasks located on different stages, and would be executed by each node where it would be assigned later.\n",
    "To creeate pipeline, instantiate Pipeline object and use command `.then()` to define a new stage. All tasks on the same stage would be started together, and the next stage would start only when all tasks from the current stage successfully finished."
   ]
  },
  {
   "cell_type": "code",
   "execution_count": 3,
   "metadata": {
    "collapsed": false
   },
   "outputs": [],
   "source": [
    "# we will use simple SleepTask for this example\n",
    "# you can look at the source code of the SleepTaskLinuxImplementation to understand how it works\n",
    "\n",
    "pipeline = Pipeline()\n",
    "\n",
    "# Notice, that executor will first in parallel execute `sleep 5` and `sleep 3`...\n",
    "pipeline = pipeline.then([\n",
    "    SleepTask(5),\n",
    "    SleepTask(3)\n",
    "]).then(\n",
    "    # ...and after they finished (after 5 second in total) will execute `sleep 10`\n",
    "    SleepTask(10)\n",
    ")"
   ]
  },
  {
   "cell_type": "markdown",
   "metadata": {
    "collapsed": false
   },
   "source": [
    "You can combine multiple tasks and stages to create your own pipeline. Each instance of a task in a pipeline would be serialized (together with all parameters) and sent to the executor. The result of task (and pipeline in general) execution would be serialized and sent back to you."
   ]
  },
  {
   "cell_type": "markdown",
   "metadata": {
    "collapsed": false
   },
   "source": [
    "Experiment is defined as one or multiple assignments of pipelines to particular nodes. To define the experiment, we should receive available nodes in infrastructure.\n",
    "\n",
    "To access the infrastructure, you need the next known parameters, provided by netunicorn installation administrators:"
   ]
  },
  {
   "cell_type": "code",
   "execution_count": 4,
   "metadata": {
    "collapsed": false
   },
   "outputs": [],
   "source": [
    "# API connection endpoint\n",
    "endpoint = \"<connection endpoint>\"\n",
    "\n",
    "# user login\n",
    "login = \"<your username>\"\n",
    "\n",
    "# user password\n",
    "password = \"<your password>\""
   ]
  },
  {
   "cell_type": "code",
   "execution_count": 5,
   "metadata": {
    "collapsed": false
   },
   "outputs": [],
   "source": [
    "# let's create a client with these parameters\n",
    "client = RemoteClient(endpoint=endpoint, login=login, password=password)"
   ]
  },
  {
   "cell_type": "markdown",
   "metadata": {
    "collapsed": false
   },
   "source": [
    "Using client, you can receive information about available nodes, and then filter them and take needed amount for your experiment."
   ]
  },
  {
   "cell_type": "code",
   "execution_count": 6,
   "metadata": {
    "collapsed": false
   },
   "outputs": [
    {
     "name": "stdout",
     "output_type": "stream",
     "text": [
      "[raspi-e4:5f:01:75:6b:2c, raspi-e4:5f:01:56:d9:a3, raspi-e4:5f:01:72:a2:eb]\n",
      "Name: raspi-e4:5f:01:75:6b:2c, properties: {'location': '', 'osarch': 'arm64', 'kernel': 'Linux'}\n",
      "Name: raspi-e4:5f:01:56:d9:a3, properties: {'location': '', 'osarch': 'arm64', 'kernel': 'Linux'}\n",
      "Name: raspi-e4:5f:01:72:a2:eb, properties: {'location': '', 'osarch': 'arm64', 'kernel': 'Linux'}\n"
     ]
    }
   ],
   "source": [
    "# let's receive all available for us minions...\n",
    "nodes = client.get_minion_pool()\n",
    "\n",
    "# ... and take first 3 from the list\n",
    "nodes = nodes.take(3)\n",
    "\n",
    "# Each node object is a class with additional properties and information\n",
    "# You don't have to use it, but you can to better target your experiments and pipelines\n",
    "print(nodes)\n",
    "for node in nodes:\n",
    "    print(f\"Name: {node.name}, properties: {node.properties}\")"
   ]
  },
  {
   "cell_type": "markdown",
   "metadata": {
    "collapsed": false
   },
   "source": [
    "For simplicity, our first experiment would consist of 3 nodes running the same pipeline. Let's create Experiment instance and add all 3 nodes with the pipeline using `map()` method. You can read the documentation about other methods of creating assignments (called `Deployments` in netunicorn)."
   ]
  },
  {
   "cell_type": "code",
   "execution_count": 7,
   "metadata": {
    "collapsed": false
   },
   "outputs": [
    {
     "name": "stdout",
     "output_type": "stream",
     "text": [
      "<Deployment: Minion=raspi-e4:5f:01:75:6b:2c, executor_id=, prepared=False>; <Deployment: Minion=raspi-e4:5f:01:56:d9:a3, executor_id=, prepared=False>; <Deployment: Minion=raspi-e4:5f:01:72:a2:eb, executor_id=, prepared=False>\n",
      "\n",
      "raspi-e4:5f:01:75:6b:2c\n",
      "DockerImage(commands=[], image=None, build_context=BuildContext(python_version='3.8.13', cloudpickle_version='2.1.0'))\n",
      "\n",
      "raspi-e4:5f:01:56:d9:a3\n",
      "DockerImage(commands=[], image=None, build_context=BuildContext(python_version='3.8.13', cloudpickle_version='2.1.0'))\n",
      "\n",
      "raspi-e4:5f:01:72:a2:eb\n",
      "DockerImage(commands=[], image=None, build_context=BuildContext(python_version='3.8.13', cloudpickle_version='2.1.0'))\n",
      "\n"
     ]
    }
   ],
   "source": [
    "experiment = Experiment().map(nodes, pipeline)\n",
    "\n",
    "# let's explore experiment object\n",
    "print(experiment)\n",
    "print()\n",
    "for deployment in experiment:\n",
    "    print(deployment.minion)\n",
    "    print(deployment.environment_definition)\n",
    "    print()"
   ]
  },
  {
   "cell_type": "markdown",
   "metadata": {
    "collapsed": false
   },
   "source": [
    "To submit the experiment, we need to create a user-wide unique name for the experiment, and call an appropriate method of the `client` object. Notice, that you can submit the same experiment several times with different names to be executed more than once."
   ]
  },
  {
   "cell_type": "code",
   "execution_count": 9,
   "metadata": {
    "collapsed": false
   },
   "outputs": [
    {
     "data": {
      "text/plain": [
       "'experiment_cool_name'"
      ]
     },
     "execution_count": 9,
     "metadata": {},
     "output_type": "execute_result"
    }
   ],
   "source": [
    "experiment_name = \"experiment_cool_name\"\n",
    "client.prepare_experiment(experiment, experiment_name)"
   ]
  },
  {
   "cell_type": "markdown",
   "metadata": {
    "collapsed": false
   },
   "source": [
    "When you submit an experiment, netunicorn services automatically create or download a virtual environment for execution of the pipeline, insert serialized pipeline inside and distribute these environments to the desired nodes.\n",
    "\n",
    "To check status of the experiment, you can use corresponding method of the `client` object."
   ]
  },
  {
   "cell_type": "code",
   "execution_count": 11,
   "metadata": {
    "collapsed": false
   },
   "outputs": [
    {
     "name": "stdout",
     "output_type": "stream",
     "text": [
      "ExperimentStatus.READY\n"
     ]
    }
   ],
   "source": [
    "# status will change from PREPARING to READY when compiled and deployed\n",
    "info = client.get_experiment_status(experiment_name)\n",
    "print(info.status)"
   ]
  },
  {
   "cell_type": "code",
   "execution_count": 12,
   "metadata": {
    "collapsed": false
   },
   "outputs": [
    {
     "name": "stdout",
     "output_type": "stream",
     "text": [
      "raspi-e4:5f:01:75:6b:2c\n",
      "True\n",
      "None\n",
      "\n",
      "raspi-e4:5f:01:56:d9:a3\n",
      "True\n",
      "None\n",
      "\n",
      "raspi-e4:5f:01:72:a2:eb\n",
      "True\n",
      "None\n",
      "\n"
     ]
    }
   ],
   "source": [
    "# One of the returned objects is a prepared experiment. It holds all the information about deployments compilation\n",
    "# Some nodes could be failed to prepare due to various reasons\n",
    "prepared_experiment = info.experiment\n",
    "for deployment in prepared_experiment:\n",
    "    print(deployment.minion)\n",
    "    print(deployment.prepared)\n",
    "    print(deployment.error)\n",
    "    print()"
   ]
  },
  {
   "cell_type": "markdown",
   "metadata": {
    "collapsed": false
   },
   "source": [
    "When the status is ready, nodes are prepared for execution and downloaded all the needed environments and pipelines (don't forget to check `prepared` status of the returned experiment to confirm).\n",
    "\n",
    "Now you can ask `client` object to start the experiment. It will ask nodes to spin up executors and will collect the execution results."
   ]
  },
  {
   "cell_type": "code",
   "execution_count": 13,
   "metadata": {
    "collapsed": false
   },
   "outputs": [
    {
     "data": {
      "text/plain": [
       "'experiment_cool_name'"
      ]
     },
     "execution_count": 13,
     "metadata": {},
     "output_type": "execute_result"
    }
   ],
   "source": [
    "client.start_execution(experiment_name)"
   ]
  },
  {
   "cell_type": "code",
   "execution_count": 14,
   "metadata": {
    "collapsed": false
   },
   "outputs": [
    {
     "name": "stdout",
     "output_type": "stream",
     "text": [
      "ExperimentStatus.FINISHED\n"
     ]
    }
   ],
   "source": [
    "# Again, let's check experiment status until it changes from EXECUTING to FINISHED\n",
    "info = client.get_experiment_status(experiment_name)\n",
    "print(info.status)"
   ]
  },
  {
   "cell_type": "code",
   "execution_count": 16,
   "metadata": {
    "collapsed": false
   },
   "outputs": [
    {
     "name": "stdout",
     "output_type": "stream",
     "text": [
      "None\n",
      "<Success: ((<Success: 5>, <Success: 3>), <Success: 10>)>\n",
      "['Parsed configuration: Gateway located on <redacted>\\n', 'Current directory: /\\n', 'Pipeline loaded from local file, executing.\\n', 'Pipeline finished, start reporting results.\\n']\n",
      "\n",
      "None\n",
      "<Success: ((<Success: 5>, <Success: 3>), <Success: 10>)>\n",
      "['Parsed configuration: Gateway located on <redacted>\\n', 'Current directory: /\\n', 'Pipeline loaded from local file, executing.\\n', 'Pipeline finished, start reporting results.\\n']\n",
      "\n",
      "None\n",
      "<Success: ((<Success: 5>, <Success: 3>), <Success: 10>)>\n",
      "['Parsed configuration: Gateway located on <redacted>\\n', 'Current directory: /\\n', 'Pipeline loaded from local file, executing.\\n', 'Pipeline finished, start reporting results.\\n']\n",
      "\n"
     ]
    }
   ],
   "source": [
    "for report in info.execution_result:\n",
    "    print(report.error)\n",
    "    result, log = report.result\n",
    "    print(result)\n",
    "    print(log)\n",
    "    print()"
   ]
  },
  {
   "cell_type": "markdown",
   "metadata": {
    "collapsed": false
   },
   "source": [
    "Congrats! We (hope, you too ^_^) successfully finished the basic experiment using the netunicorn platform.\n",
    "For next steps, you can read the documentation on creating more complex experiments, including writing your own tasks, providing your own Docker containers, experiment synchronization, etc.\n",
    "\n",
    "For all questions, refer to the official repo: https://github.com/SNL-UCSB/netunicorn and netunicorn team."
   ]
  }
 ],
 "metadata": {
  "kernelspec": {
   "display_name": "Python 3.10.6 64-bit",
   "language": "python",
   "name": "python3"
  },
  "language_info": {
   "codemirror_mode": {
    "name": "ipython",
    "version": 2
   },
   "file_extension": ".py",
   "mimetype": "text/x-python",
   "name": "python",
   "nbconvert_exporter": "python",
   "pygments_lexer": "ipython2",
   "version": "3.10.6"
  },
  "vscode": {
   "interpreter": {
    "hash": "e7370f93d1d0cde622a1f8e1c04877d8463912d04d973331ad4851f04de6915a"
   }
  }
 },
 "nbformat": 4,
 "nbformat_minor": 0
}
